{
 "cells": [
  {
   "cell_type": "code",
   "execution_count": 1,
   "metadata": {},
   "outputs": [],
   "source": [
    "from serial.tools import list_ports\n",
    "import serial\n",
    "import re\n",
    "from boards import board_dict\n",
    "def check_ports():\n",
    "    not_arduinos = []\n",
    "    arduinos = []\n",
    "    for connection in list_ports.comports():\n",
    "        port,hwid,desc = connection\n",
    "        vid_pid = re.search(r\"(?<=VID\\:PID\\=)[0-9|A-Z|a-z]{4}\\:[0-9|A-Z|a-z]{4}\", desc)\n",
    "        vid_pid = None if vid_pid is None else vid_pid.group()\n",
    "        if vid_pid is None:\n",
    "            not_arduinos.append(connection)\n",
    "        else:\n",
    "            try:\n",
    "                board = board_dict[vid_pid]\n",
    "                arduinos.append((board,connection))\n",
    "            except KeyError:\n",
    "                not_arduinos.append(connection)\n",
    "    return arduinos, not_arduinos"
   ]
  },
  {
   "cell_type": "code",
   "execution_count": 3,
   "metadata": {},
   "outputs": [
    {
     "name": "stdout",
     "output_type": "stream",
     "text": [
      "Arduino Uno /dev/ttyACM0\n"
     ]
    }
   ],
   "source": [
    "arduinos, not_arduinos = check_ports()\n",
    "for a in arduinos:\n",
    "    print(a[0],a[1][0])"
   ]
  },
  {
   "cell_type": "code",
   "execution_count": null,
   "metadata": {},
   "outputs": [],
   "source": []
  }
 ],
 "metadata": {
  "kernelspec": {
   "display_name": "Python 3",
   "language": "python",
   "name": "python3"
  },
  "language_info": {
   "codemirror_mode": {
    "name": "ipython",
    "version": 3
   },
   "file_extension": ".py",
   "mimetype": "text/x-python",
   "name": "python",
   "nbconvert_exporter": "python",
   "pygments_lexer": "ipython3",
   "version": "3.8.1"
  }
 },
 "nbformat": 4,
 "nbformat_minor": 4
}
